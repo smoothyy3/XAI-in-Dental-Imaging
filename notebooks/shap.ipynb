{
 "cells": [
  {
   "cell_type": "code",
   "execution_count": 2,
   "id": "87166615",
   "metadata": {},
   "outputs": [],
   "source": [
    "import json\n",
    "import numpy as np\n",
    "from tensorflow.keras.applications.resnet50 import ResNet50, preprocess_input\n",
    "import shap\n",
    "from PIL import Image\n",
    "import time"
   ]
  },
  {
   "cell_type": "code",
   "execution_count": 3,
   "id": "785c0f4d",
   "metadata": {},
   "outputs": [],
   "source": [
    "img_path = \"../data/figure_data/dog_and_cat.jpg\"\n",
    "img = Image.open(img_path).convert('RGB').resize((224, 224))\n",
    "img_np = np.array(img)\n",
    "img_batch = np.expand_dims(img_np, axis=0)\n",
    "img_preprocessed = preprocess_input(img_batch.copy())\n",
    "\n",
    "X = img_preprocessed"
   ]
  },
  {
   "cell_type": "code",
   "execution_count": 4,
   "id": "d6c4c99d",
   "metadata": {},
   "outputs": [],
   "source": [
    "url = \"https://s3.amazonaws.com/deep-learning-models/image-models/imagenet_class_index.json\"\n",
    "with open(shap.datasets.cache(url)) as file:\n",
    "    class_names = [v[1] for v in json.load(file).values()]"
   ]
  },
  {
   "cell_type": "code",
   "execution_count": null,
   "id": "5cb43775",
   "metadata": {},
   "outputs": [],
   "source": [
    "start = time.time()\n",
    "def f(x):\n",
    "    tmp = x.copy()\n",
    "    preprocess_input(tmp)\n",
    "    return model(tmp)\n",
    "\n",
    "\n",
    "# define a masker that is used to mask out partitions of the input image.\n",
    "masker = shap.maskers.Image(\"inpaint_telea\", X[0].shape)\n",
    "\n",
    "# create an explainer with model and image masker\n",
    "explainer = shap.Explainer(f, masker, output_names=class_names)\n",
    "\n",
    "# here we explain two images using 500 evaluations of the underlying model to estimate the SHAP values\n",
    "#X_orig = X[[1]]  # Use original RGB values, not preprocessed\n",
    "#X_display = X_orig / 255.0  # if original image is in [0, 255]\n",
    "shap_values = explainer(X, max_evals=100, batch_size=50, outputs=shap.Explanation.argsort.flip[:1])"
   ]
  },
  {
   "cell_type": "code",
   "execution_count": null,
   "id": "df0dc4c2",
   "metadata": {},
   "outputs": [],
   "source": [
    "img_raw = Image.open(img_path).convert(\"RGB\").resize((224, 224))\n",
    "X_orig = np.array(img_raw)\n",
    "X_display = X_orig / 255.0\n",
    "\n",
    "# Make it a batch of 1 image with shape (1, 224, 224, 3)\n",
    "X_display = np.array([X_display])\n",
    "\n",
    "shap.image_plot(shap_values, X_display)\n",
    "end = time.time()\n",
    "duration = end - start\n",
    "print(duration)"
   ]
  }
 ],
 "metadata": {
  "kernelspec": {
   "display_name": "aki",
   "language": "python",
   "name": "python3"
  },
  "language_info": {
   "codemirror_mode": {
    "name": "ipython",
    "version": 3
   },
   "file_extension": ".py",
   "mimetype": "text/x-python",
   "name": "python",
   "nbconvert_exporter": "python",
   "pygments_lexer": "ipython3",
   "version": "3.11.11"
  }
 },
 "nbformat": 4,
 "nbformat_minor": 5
}
